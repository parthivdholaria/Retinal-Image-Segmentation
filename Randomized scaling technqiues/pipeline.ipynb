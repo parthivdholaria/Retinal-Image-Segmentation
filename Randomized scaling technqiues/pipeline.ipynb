{
 "cells": [
  {
   "cell_type": "code",
   "execution_count": 1,
   "metadata": {},
   "outputs": [],
   "source": [
    "import os\n",
    "import random\n",
    "from glob import glob\n",
    "import numpy as np\n",
    "from PIL import Image\n",
    "from sklearn.metrics import confusion_matrix\n",
    "from skimage.metrics import structural_similarity as ssim\n",
    "from skimage.feature import hessian_matrix, hessian_matrix_eigvals\n",
    "import cv2\n",
    "import copy\n",
    "import warnings\n",
    "warnings.filterwarnings(\"ignore\")"
   ]
  },
  {
   "cell_type": "code",
   "execution_count": 2,
   "metadata": {},
   "outputs": [],
   "source": [
    "# Paths to dataset images and ground truths\n",
    "dataset_path = r'CHASEDB1'\n",
    "image_files = glob(os.path.join(dataset_path, '*.jpg'))\n",
    "ground_truth_files = glob(os.path.join(dataset_path, '*_1stHO.png'))\n",
    "image_files.sort()\n",
    "ground_truth_files.sort()"
   ]
  },
  {
   "cell_type": "code",
   "execution_count": 3,
   "metadata": {},
   "outputs": [],
   "source": [
    "def accuracy_func(image1, image2):\n",
    "    segmented_vessels = image1\n",
    "    segmented_image = image2\n",
    "\n",
    "    ssim_score = ssim(segmented_image, segmented_vessels, data_range=255)\n",
    "    mse = np.mean((image1 - image2) ** 2)\n",
    "    psnr_score = 20 * np.log10(255.0 / np.sqrt(mse)) if mse != 0 else float('inf')\n",
    "\n",
    "    generated_binary = (segmented_vessels > 0).astype(np.uint8)\n",
    "    target_binary = (segmented_image > 0).astype(np.uint8)\n",
    "\n",
    "    tn, fp, fn, tp = confusion_matrix(target_binary.ravel(), generated_binary.ravel()).ravel()\n",
    "    accuracy = (tp + tn) / (tp + tn + fp + fn)\n",
    "    sensitivity = tp / (tp + fn)\n",
    "    specificity = tn / (tn + fp)\n",
    "    f1 = 2 / ((1 / specificity) + (1 / sensitivity))\n",
    "    \n",
    "    return accuracy, sensitivity, specificity, f1, ssim_score, psnr_score"
   ]
  },
  {
   "cell_type": "code",
   "execution_count": 4,
   "metadata": {},
   "outputs": [],
   "source": [
    "def threshold(img,k):\n",
    "    ret = copy.deepcopy(img)\n",
    "    ret[ret<k] = 0\n",
    "    ret[ret>=k] = 255\n",
    "    return ret\n",
    "\n",
    "def GlobalOtsu(img):\n",
    "    foreground = img[img>=0]\n",
    "    background = img[img<0]\n",
    "    \n",
    "    final_var = (np.var(foreground) * len(foreground) + np.var(background) * len(background))/(len(foreground) + len(background))\n",
    "    if(np.isnan(final_var)):\n",
    "        final_var = -1\n",
    "        \n",
    "    final_thresh = 0\n",
    "    for i in np.linspace(np.min(img), np.max(img), num=255):\n",
    "        foreground = img[img>=i]\n",
    "        background = img[img<i]\n",
    "        var = (np.var(foreground) * len(foreground) + np.var(background) * len(background))/(len(foreground) + len(background))\n",
    "        \n",
    "        if(np.isnan(var)):\n",
    "            var = -1\n",
    "            \n",
    "        if(var!=-1 and (var<final_var or final_var ==-1)):\n",
    "            final_var = var\n",
    "            final_thresh = i\n",
    "    return threshold(img,final_thresh)"
   ]
  },
  {
   "cell_type": "code",
   "execution_count": 5,
   "metadata": {},
   "outputs": [
    {
     "name": "stdout",
     "output_type": "stream",
     "text": [
      "Average Metrics (Grayscale):\n",
      "Accuracy: 0.9132, Sensitivity: 0.4109, Specificity: 0.9656, F1-Score: 0.5741, SSIM: 0.7356, PSNR: 10.3154\n",
      "\n",
      "Average Metrics (Green Channel):\n",
      "Accuracy: 0.9165, Sensitivity: 0.4287, Specificity: 0.9666, F1-Score: 0.5906, SSIM: 0.7428, PSNR: 10.3910\n"
     ]
    }
   ],
   "source": [
    "metrics_grayscale = []\n",
    "metrics_green = []\n",
    "\n",
    "# selected_indices = random.sample(range(len(image_files)), 10)\n",
    "\n",
    "for idx , img in enumerate(image_files):\n",
    "    img_path = image_files[idx]\n",
    "    ground_img_path = ground_truth_files[idx]\n",
    "\n",
    "    img = Image.open(img_path)\n",
    "    ground_img = Image.open(ground_img_path)\n",
    "    img_array = np.array(img)\n",
    "    ground_img_array = np.array(ground_img)\n",
    "\n",
    "    img_gray_array = np.array(img.convert('L'))\n",
    "    green_channel = img_array[:, :, 1]\n",
    "\n",
    "    brightness_factor = random.uniform(0.8, 1.6)\n",
    "    scaled_green_channel = np.clip(green_channel * brightness_factor, 0, 255).astype(np.uint8)\n",
    "\n",
    "    clahe = cv2.createCLAHE(clipLimit=3, tileGridSize=(8, 8))\n",
    "    cl_img_gray = clahe.apply(img_gray_array)\n",
    "    cl_img_green = clahe.apply(scaled_green_channel)\n",
    "\n",
    "    cell_disc = cv2.getStructuringElement(cv2.MORPH_ELLIPSE, (9, 9))\n",
    "    kernel = cv2.getStructuringElement(cv2.MORPH_RECT, (2, 2))\n",
    "\n",
    "    Topen_gray = cv2.morphologyEx(cl_img_gray, cv2.MORPH_OPEN, cell_disc)\n",
    "    Tclose_gray = cv2.morphologyEx(Topen_gray, cv2.MORPH_CLOSE, cell_disc)\n",
    "    TopHat_gray = cl_img_gray - Tclose_gray\n",
    "    min_image_gray = cv2.dilate(cv2.erode(TopHat_gray, kernel), kernel)\n",
    "\n",
    "    Topen_green = cv2.morphologyEx(cl_img_green, cv2.MORPH_OPEN, cell_disc)\n",
    "    Tclose_green = cv2.morphologyEx(Topen_green, cv2.MORPH_CLOSE, cell_disc)\n",
    "    TopHat_green = cl_img_green - Tclose_green\n",
    "    min_image_green = cv2.dilate(cv2.erode(TopHat_green, kernel), kernel)\n",
    "\n",
    "    HessWide_gray = hessian_matrix(min_image_gray, sigma=4, order='rc')\n",
    "    EignWide_gray = hessian_matrix_eigvals(HessWide_gray)[1]\n",
    "    HessWide_green = hessian_matrix(min_image_green, sigma=4, order='rc')\n",
    "    EignWide_green = hessian_matrix_eigvals(HessWide_green)[1]\n",
    "\n",
    "    val_gray = GlobalOtsu(1 - EignWide_gray)\n",
    "    val_green = GlobalOtsu(1 - EignWide_green)\n",
    "\n",
    "    metrics_grayscale.append(accuracy_func(ground_img_array, val_gray))\n",
    "    metrics_green.append(accuracy_func(ground_img_array, val_green))\n",
    "\n",
    "\n",
    "metrics_grayscale = np.mean(metrics_grayscale, axis=0)\n",
    "metrics_green = np.mean(metrics_green, axis=0)\n",
    "\n",
    "print(\"Average Metrics (Grayscale):\")\n",
    "print(f\"Accuracy: {metrics_grayscale[0]:.4f}, Sensitivity: {metrics_grayscale[1]:.4f}, Specificity: {metrics_grayscale[2]:.4f}, F1-Score: {metrics_grayscale[3]:.4f}, SSIM: {metrics_grayscale[4]:.4f}, PSNR: {metrics_grayscale[5]:.4f}\")\n",
    "\n",
    "print(\"\\nAverage Metrics (Green Channel):\")\n",
    "print(f\"Accuracy: {metrics_green[0]:.4f}, Sensitivity: {metrics_green[1]:.4f}, Specificity: {metrics_green[2]:.4f}, F1-Score: {metrics_green[3]:.4f}, SSIM: {metrics_green[4]:.4f}, PSNR: {metrics_green[5]:.4f}\")\n"
   ]
  }
 ],
 "metadata": {
  "kernelspec": {
   "display_name": "Python 3",
   "language": "python",
   "name": "python3"
  },
  "language_info": {
   "codemirror_mode": {
    "name": "ipython",
    "version": 3
   },
   "file_extension": ".py",
   "mimetype": "text/x-python",
   "name": "python",
   "nbconvert_exporter": "python",
   "pygments_lexer": "ipython3",
   "version": "3.11.9"
  }
 },
 "nbformat": 4,
 "nbformat_minor": 2
}
